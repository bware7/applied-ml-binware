{
 "cells": [
  {
   "cell_type": "markdown",
   "metadata": {},
   "source": [
    "# Lab 4: Predicting Fare with Regression\n",
    "**Author:** Bin Ware\n",
    "**Date:** April 04, 2025  \n"
   ]
  },
  {
   "cell_type": "markdown",
   "metadata": {},
   "source": [
    "## Introduction: \n",
    "This notebook predicts the continuous target 'fare' in the Titanic dataset using regression models.We explore features like age, family size, and others to build and compare Linear, Ridge, ElasticNet, and Polynomial models."
   ]
  },
  {
   "cell_type": "markdown",
   "metadata": {},
   "source": [
    "## Imports"
   ]
  },
  {
   "cell_type": "code",
   "execution_count": 55,
   "metadata": {},
   "outputs": [],
   "source": [
    "import seaborn as sns\n",
    "import pandas as pd\n",
    "import numpy as np\n",
    "import matplotlib.pyplot as plt\n",
    "from sklearn.model_selection import train_test_split\n",
    "from sklearn.linear_model import LinearRegression, Ridge, ElasticNet\n",
    "from sklearn.preprocessing import PolynomialFeatures\n",
    "from sklearn.metrics import mean_squared_error, mean_absolute_error, r2_score"
   ]
  },
  {
   "cell_type": "markdown",
   "metadata": {},
   "source": [
    "## Section 1. Import and Inspect the Data"
   ]
  },
  {
   "cell_type": "code",
   "execution_count": 56,
   "metadata": {},
   "outputs": [
    {
     "data": {
      "text/html": [
       "<div>\n",
       "<style scoped>\n",
       "    .dataframe tbody tr th:only-of-type {\n",
       "        vertical-align: middle;\n",
       "    }\n",
       "\n",
       "    .dataframe tbody tr th {\n",
       "        vertical-align: top;\n",
       "    }\n",
       "\n",
       "    .dataframe thead th {\n",
       "        text-align: right;\n",
       "    }\n",
       "</style>\n",
       "<table border=\"1\" class=\"dataframe\">\n",
       "  <thead>\n",
       "    <tr style=\"text-align: right;\">\n",
       "      <th></th>\n",
       "      <th>survived</th>\n",
       "      <th>pclass</th>\n",
       "      <th>sex</th>\n",
       "      <th>age</th>\n",
       "      <th>sibsp</th>\n",
       "      <th>parch</th>\n",
       "      <th>fare</th>\n",
       "      <th>embarked</th>\n",
       "      <th>class</th>\n",
       "      <th>who</th>\n",
       "      <th>adult_male</th>\n",
       "      <th>deck</th>\n",
       "      <th>embark_town</th>\n",
       "      <th>alive</th>\n",
       "      <th>alone</th>\n",
       "    </tr>\n",
       "  </thead>\n",
       "  <tbody>\n",
       "    <tr>\n",
       "      <th>0</th>\n",
       "      <td>0</td>\n",
       "      <td>3</td>\n",
       "      <td>male</td>\n",
       "      <td>22.0</td>\n",
       "      <td>1</td>\n",
       "      <td>0</td>\n",
       "      <td>7.2500</td>\n",
       "      <td>S</td>\n",
       "      <td>Third</td>\n",
       "      <td>man</td>\n",
       "      <td>True</td>\n",
       "      <td>NaN</td>\n",
       "      <td>Southampton</td>\n",
       "      <td>no</td>\n",
       "      <td>False</td>\n",
       "    </tr>\n",
       "    <tr>\n",
       "      <th>1</th>\n",
       "      <td>1</td>\n",
       "      <td>1</td>\n",
       "      <td>female</td>\n",
       "      <td>38.0</td>\n",
       "      <td>1</td>\n",
       "      <td>0</td>\n",
       "      <td>71.2833</td>\n",
       "      <td>C</td>\n",
       "      <td>First</td>\n",
       "      <td>woman</td>\n",
       "      <td>False</td>\n",
       "      <td>C</td>\n",
       "      <td>Cherbourg</td>\n",
       "      <td>yes</td>\n",
       "      <td>False</td>\n",
       "    </tr>\n",
       "    <tr>\n",
       "      <th>2</th>\n",
       "      <td>1</td>\n",
       "      <td>3</td>\n",
       "      <td>female</td>\n",
       "      <td>26.0</td>\n",
       "      <td>0</td>\n",
       "      <td>0</td>\n",
       "      <td>7.9250</td>\n",
       "      <td>S</td>\n",
       "      <td>Third</td>\n",
       "      <td>woman</td>\n",
       "      <td>False</td>\n",
       "      <td>NaN</td>\n",
       "      <td>Southampton</td>\n",
       "      <td>yes</td>\n",
       "      <td>True</td>\n",
       "    </tr>\n",
       "    <tr>\n",
       "      <th>3</th>\n",
       "      <td>1</td>\n",
       "      <td>1</td>\n",
       "      <td>female</td>\n",
       "      <td>35.0</td>\n",
       "      <td>1</td>\n",
       "      <td>0</td>\n",
       "      <td>53.1000</td>\n",
       "      <td>S</td>\n",
       "      <td>First</td>\n",
       "      <td>woman</td>\n",
       "      <td>False</td>\n",
       "      <td>C</td>\n",
       "      <td>Southampton</td>\n",
       "      <td>yes</td>\n",
       "      <td>False</td>\n",
       "    </tr>\n",
       "    <tr>\n",
       "      <th>4</th>\n",
       "      <td>0</td>\n",
       "      <td>3</td>\n",
       "      <td>male</td>\n",
       "      <td>35.0</td>\n",
       "      <td>0</td>\n",
       "      <td>0</td>\n",
       "      <td>8.0500</td>\n",
       "      <td>S</td>\n",
       "      <td>Third</td>\n",
       "      <td>man</td>\n",
       "      <td>True</td>\n",
       "      <td>NaN</td>\n",
       "      <td>Southampton</td>\n",
       "      <td>no</td>\n",
       "      <td>True</td>\n",
       "    </tr>\n",
       "  </tbody>\n",
       "</table>\n",
       "</div>"
      ],
      "text/plain": [
       "   survived  pclass     sex   age  sibsp  parch     fare embarked  class  \\\n",
       "0         0       3    male  22.0      1      0   7.2500        S  Third   \n",
       "1         1       1  female  38.0      1      0  71.2833        C  First   \n",
       "2         1       3  female  26.0      0      0   7.9250        S  Third   \n",
       "3         1       1  female  35.0      1      0  53.1000        S  First   \n",
       "4         0       3    male  35.0      0      0   8.0500        S  Third   \n",
       "\n",
       "     who  adult_male deck  embark_town alive  alone  \n",
       "0    man        True  NaN  Southampton    no  False  \n",
       "1  woman       False    C    Cherbourg   yes  False  \n",
       "2  woman       False  NaN  Southampton   yes   True  \n",
       "3  woman       False    C  Southampton   yes  False  \n",
       "4    man        True  NaN  Southampton    no   True  "
      ]
     },
     "execution_count": 56,
     "metadata": {},
     "output_type": "execute_result"
    }
   ],
   "source": [
    "titanic = sns.load_dataset(\"titanic\")\n",
    "titanic.head()"
   ]
  },
  {
   "cell_type": "markdown",
   "metadata": {},
   "source": [
    "## Section 2: Data Exploration and Preparation"
   ]
  },
  {
   "cell_type": "code",
   "execution_count": 57,
   "metadata": {},
   "outputs": [],
   "source": [
    "titanic['age'] = titanic['age'].fillna(titanic['age'].median())\n",
    "titanic['embark_town'] = titanic['embark_town'].fillna(titanic['embark_town'].mode()[0])"
   ]
  },
  {
   "cell_type": "markdown",
   "metadata": {},
   "source": [
    "### Feature Engineering:"
   ]
  },
  {
   "cell_type": "code",
   "execution_count": 58,
   "metadata": {},
   "outputs": [],
   "source": [
    "titanic['family_size'] = titanic['sibsp'] + titanic['parch'] + 1\n",
    "titanic['sex_numeric'] = titanic['sex'].map({'male': 0, 'female': 1})  # Convert sex to numeric"
   ]
  },
  {
   "cell_type": "markdown",
   "metadata": {},
   "source": [
    "## Section 3: Feature Selection and Justification"
   ]
  },
  {
   "cell_type": "code",
   "execution_count": 59,
   "metadata": {},
   "outputs": [],
   "source": [
    "# Case 1: age\n",
    "X1 = titanic[['age']]\n",
    "y1 = titanic['fare']\n",
    "\n",
    "# Case 2: family_size\n",
    "X2 = titanic[['family_size']]\n",
    "y2 = titanic['fare']\n",
    "\n",
    "# Case 3: age and family_size\n",
    "X3 = titanic[['age', 'family_size']]\n",
    "y3 = titanic['fare']\n",
    "\n",
    "# Case 4: age, family_size, sex_numeric\n",
    "X4 = titanic[['age', 'family_size', 'sex_numeric']]\n",
    "y4 = titanic['fare']"
   ]
  },
  {
   "cell_type": "markdown",
   "metadata": {},
   "source": [
    "#### Reflection \n",
    "##### - **Why might these features affect fare?** Age might reflect ticket discounts (e.g., children), family_size could indicate group rates, and sex might relate to societal pricing norms or cabin assignments.  \n",
    "##### - **All features:** age, sex, pclass, sibsp, parch, fare, embarked, class, who, adult_male, deck, embark_town, alive, alone.  \n",
    "##### - **Other features:** `pclass` (class of travel) could strongly predict fare due to tiered pricing; `embarked` might reflect distance or port-specific costs.  \n",
    "##### - **Case 4 has 3 variables:** age, family_size, sex_numeric.  \n",
    "##### - **Choice for Case 4:** These capture demographic (age, sex) and social (family_size) factors that might influence fare pricing or passenger type."
   ]
  },
  {
   "cell_type": "markdown",
   "metadata": {},
   "source": [
    "## Section 4: Train a Regression Model"
   ]
  },
  {
   "cell_type": "markdown",
   "metadata": {},
   "source": [
    "### 4.1 Split the Data"
   ]
  },
  {
   "cell_type": "code",
   "execution_count": 60,
   "metadata": {},
   "outputs": [],
   "source": [
    "X1_train, X1_test, y1_train, y1_test = train_test_split(X1, y1, test_size=0.2, random_state=123)\n",
    "X2_train, X2_test, y2_train, y2_test = train_test_split(X2, y2, test_size=0.2, random_state=123)\n",
    "X3_train, X3_test, y3_train, y3_test = train_test_split(X3, y3, test_size=0.2, random_state=123)\n",
    "X4_train, X4_test, y4_train, y4_test = train_test_split(X4, y4, test_size=0.2, random_state=123)"
   ]
  },
  {
   "cell_type": "markdown",
   "metadata": {},
   "source": [
    "### 4.2 Train and Evaluate"
   ]
  },
  {
   "cell_type": "code",
   "execution_count": 61,
   "metadata": {},
   "outputs": [],
   "source": [
    "lr_model1 = LinearRegression().fit(X1_train, y1_train)\n",
    "lr_model2 = LinearRegression().fit(X2_train, y2_train)\n",
    "lr_model3 = LinearRegression().fit(X3_train, y3_train)\n",
    "lr_model4 = LinearRegression().fit(X4_train, y4_train)\n",
    "\n",
    "y_pred_train1 = lr_model1.predict(X1_train)\n",
    "y_pred_test1 = lr_model1.predict(X1_test)\n",
    "y_pred_train2 = lr_model2.predict(X2_train)\n",
    "y_pred_test2 = lr_model2.predict(X2_test)\n",
    "y_pred_train3 = lr_model3.predict(X3_train)\n",
    "y_pred_test3 = lr_model3.predict(X3_test)\n",
    "y_pred_train4 = lr_model4.predict(X4_train)\n",
    "y_pred_test4 = lr_model4.predict(X4_test)"
   ]
  },
  {
   "cell_type": "markdown",
   "metadata": {},
   "source": [
    "### 4.3 Report Performance"
   ]
  },
  {
   "cell_type": "code",
   "execution_count": 62,
   "metadata": {},
   "outputs": [
    {
     "name": "stdout",
     "output_type": "stream",
     "text": [
      "Case 1 (age):\n",
      "  Training R²: 0.010\n",
      "  Test R²: 0.003\n",
      "  Test RMSE: 37.97\n",
      "  Test MAE: 25.29\n",
      "\n",
      "Case 2 (family_size):\n",
      "  Training R²: 0.050\n",
      "  Test R²: 0.022\n",
      "  Test RMSE: 37.61\n",
      "  Test MAE: 25.03\n",
      "\n",
      "Case 3 (age, family_size):\n",
      "  Training R²: 0.073\n",
      "  Test R²: 0.050\n",
      "  Test RMSE: 37.08\n",
      "  Test MAE: 24.28\n",
      "\n",
      "Case 4 (age, family_size, sex_numeric):\n",
      "  Training R²: 0.088\n",
      "  Test R²: 0.119\n",
      "  Test RMSE: 35.70\n",
      "  Test MAE: 23.60\n",
      "\n"
     ]
    }
   ],
   "source": [
    "def report_metrics(case, y_train, y_train_pred, y_test, y_test_pred):\n",
    "    print(f\"{case}:\")\n",
    "    print(f\"  Training R²: {r2_score(y_train, y_train_pred):.3f}\")\n",
    "    print(f\"  Test R²: {r2_score(y_test, y_test_pred):.3f}\")\n",
    "    print(f\"  Test RMSE: {np.sqrt(mean_squared_error(y_test, y_test_pred)):.2f}\")\n",
    "    print(f\"  Test MAE: {mean_absolute_error(y_test, y_test_pred):.2f}\\n\")\n",
    "\n",
    "report_metrics(\"Case 1 (age)\", y1_train, y_pred_train1, y1_test, y_pred_test1)\n",
    "report_metrics(\"Case 2 (family_size)\", y2_train, y_pred_train2, y2_test, y_pred_test2)\n",
    "report_metrics(\"Case 3 (age, family_size)\", y3_train, y_pred_train3, y3_test, y_pred_test3)\n",
    "report_metrics(\"Case 4 (age, family_size, sex_numeric)\", y4_train, y_pred_train4, y4_test, y_pred_test4)"
   ]
  },
  {
   "cell_type": "markdown",
   "metadata": {},
   "source": [
    "#### Reflection\n",
    "##### - **Train vs. test:** Training R² slightly exceeds test R² in all cases, but gaps are small (<0.05), indicating no significant overfitting.  \n",
    "##### - **Case 1:** Underfits (R² = 0.003 on test); age alone has almost no predictive power.  \n",
    "##### - **Case 2:** Underfits (R² = 0.022); family_size improves slightly but is insufficient.  \n",
    "##### - **Case 3:** Underfits (R² = 0.050); combining age and family_size helps marginally.  \n",
    "##### - **Case 4:** Best fit (R² = 0.119); still underfits but benefits from sex_numeric; small train-test gap (0.088 vs. 0.119) suggests good generalization.  \n",
    "##### - **Adding age:** Minimal impact alone (Case 1), but boosts performance with other features (Case 3, 4).  \n",
    "##### - **Worst:** Case 1 (R² = 0.003); more data won’t help without better features.  \n",
    "##### - **Best:** Case 4 (R² = 0.119); more data might refine it slightly, but feature quality is the limiter."
   ]
  },
  {
   "cell_type": "markdown",
   "metadata": {},
   "source": [
    "## Section 5: Compare Alternative Models"
   ]
  },
  {
   "cell_type": "markdown",
   "metadata": {},
   "source": [
    "### 5.1 Ridge"
   ]
  },
  {
   "cell_type": "code",
   "execution_count": 63,
   "metadata": {},
   "outputs": [],
   "source": [
    "ridge_model = Ridge(alpha=1.0).fit(X4_train, y4_train)\n",
    "y_pred_ridge = ridge_model.predict(X4_test)"
   ]
  },
  {
   "cell_type": "markdown",
   "metadata": {},
   "source": [
    "### 5.2 ElasticNet"
   ]
  },
  {
   "cell_type": "code",
   "execution_count": 64,
   "metadata": {},
   "outputs": [],
   "source": [
    "elastic_model = ElasticNet(alpha=0.3, l1_ratio=0.5).fit(X4_train, y4_train)\n",
    "y_pred_elastic = elastic_model.predict(X4_test)"
   ]
  },
  {
   "cell_type": "markdown",
   "metadata": {},
   "source": [
    "### 5.3 Polynomial"
   ]
  },
  {
   "cell_type": "code",
   "execution_count": 65,
   "metadata": {},
   "outputs": [],
   "source": [
    "poly = PolynomialFeatures(degree=3)\n",
    "X1_train_poly = poly.fit_transform(X1_train)\n",
    "X1_test_poly = poly.transform(X1_test)\n",
    "poly_model = LinearRegression().fit(X1_train_poly, y1_train)\n",
    "y_pred_poly = poly_model.predict(X1_test_poly)"
   ]
  },
  {
   "cell_type": "markdown",
   "metadata": {},
   "source": [
    "### 5.4 Visualize Polynomial"
   ]
  },
  {
   "cell_type": "code",
   "execution_count": 66,
   "metadata": {},
   "outputs": [
    {
     "data": {
      "image/png": "[encoded data removed]",
      "text/plain": [
       "<Figure size 640x480 with 1 Axes>"
      ]
     },
     "metadata": {},
     "output_type": "display_data"
    }
   ],
   "source": [
    "plt.scatter(X1_test, y1_test, color='blue', label='Actual')\n",
    "plt.scatter(X1_test, y_pred_poly, color='red', label='Predicted (Poly degree 3)')\n",
    "plt.legend()\n",
    "plt.xlabel('Age')\n",
    "plt.ylabel('Fare')\n",
    "plt.title(\"Polynomial Regression: Age vs Fare\")\n",
    "plt.show()"
   ]
  },
  {
   "cell_type": "markdown",
   "metadata": {},
   "source": [
    "#### Reflection \n",
    "##### - **Patterns:** Cubic captures slight nonlinearity (e.g., fare dips for young/old ages), but effect is weak.  \n",
    "##### - **Performance:** Poor for outliers (high fares); decent in mid-range (20-40).  \n",
    "##### - **Vs. Linear:** Worse (R² = -0.003 vs. 0.003); polynomial overcomplicates a weak relationship.  \n",
    "##### - **Best fit:** Dense age regions (20-40); fails at extremes."
   ]
  },
  {
   "cell_type": "markdown",
   "metadata": {},
   "source": [
    "### 5.5 Higher Order Polynomial"
   ]
  },
  {
   "cell_type": "code",
   "execution_count": 67,
   "metadata": {},
   "outputs": [
    {
     "data": {
      "image/png": "[encoded data removed]",
      "text/plain": [
       "<Figure size 640x480 with 1 Axes>"
      ]
     },
     "metadata": {},
     "output_type": "display_data"
    }
   ],
   "source": [
    "poly8 = PolynomialFeatures(degree=8)\n",
    "X1_train_poly8 = poly8.fit_transform(X1_train)\n",
    "X1_test_poly8 = poly8.transform(X1_test)\n",
    "poly_model8 = LinearRegression().fit(X1_train_poly8, y1_train)\n",
    "y_pred_poly8 = poly_model8.predict(X1_test_poly8)\n",
    "\n",
    "plt.scatter(X1_test, y1_test, color='blue', label='Actual')\n",
    "plt.scatter(X1_test, y_pred_poly8, color='red', label='Predicted (Poly degree 8)')\n",
    "plt.legend()\n",
    "plt.xlabel('Age')\n",
    "plt.ylabel('Fare')\n",
    "plt.title(\"Polynomial Regression (Degree 8): Age vs Fare\")\n",
    "plt.show()"
   ]
  },
  {
   "cell_type": "markdown",
   "metadata": {},
   "source": [
    "#### Reflection \n",
    "##### - **Cubic vs. Degree 8:** Cubic is better; degree 8 overfits severely (wild predictions, likely worse R²)."
   ]
  },
  {
   "cell_type": "markdown",
   "metadata": {},
   "source": [
    "### 5.6 Compare All Models"
   ]
  },
  {
   "cell_type": "code",
   "execution_count": 68,
   "metadata": {},
   "outputs": [
    {
     "name": "stdout",
     "output_type": "stream",
     "text": [
      "Case 4 Linear:\n",
      "  Test R²: 0.119\n",
      "  Test RMSE: 35.70\n",
      "  Test MAE: 23.60\n",
      "\n",
      "Case 4 Ridge:\n",
      "  Test R²: 0.119\n",
      "  Test RMSE: 35.71\n",
      "  Test MAE: 23.60\n",
      "\n",
      "Case 4 ElasticNet:\n",
      "  Test R²: 0.101\n",
      "  Test RMSE: 36.06\n",
      "  Test MAE: 23.80\n",
      "\n",
      "Case 1 Polynomial (degree 3):\n",
      "  Test R²: -0.003\n",
      "  Test RMSE: 38.10\n",
      "  Test MAE: 25.30\n",
      "\n"
     ]
    }
   ],
   "source": [
    "print(\"Case 4 Linear:\")\n",
    "print(f\"  Test R²: {r2_score(y4_test, y_pred_test4):.3f}\")\n",
    "print(f\"  Test RMSE: {np.sqrt(mean_squared_error(y4_test, y_pred_test4)):.2f}\")\n",
    "print(f\"  Test MAE: {mean_absolute_error(y4_test, y_pred_test4):.2f}\\n\")\n",
    "\n",
    "print(\"Case 4 Ridge:\")\n",
    "print(f\"  Test R²: {r2_score(y4_test, y_pred_ridge):.3f}\")\n",
    "print(f\"  Test RMSE: {np.sqrt(mean_squared_error(y4_test, y_pred_ridge)):.2f}\")\n",
    "print(f\"  Test MAE: {mean_absolute_error(y4_test, y_pred_ridge):.2f}\\n\")\n",
    "\n",
    "print(\"Case 4 ElasticNet:\")\n",
    "print(f\"  Test R²: {r2_score(y4_test, y_pred_elastic):.3f}\")\n",
    "print(f\"  Test RMSE: {np.sqrt(mean_squared_error(y4_test, y_pred_elastic)):.2f}\")\n",
    "print(f\"  Test MAE: {mean_absolute_error(y4_test, y_pred_elastic):.2f}\\n\")\n",
    "\n",
    "print(\"Case 1 Polynomial (degree 3):\")\n",
    "print(f\"  Test R²: {r2_score(y1_test, y_pred_poly):.3f}\")\n",
    "print(f\"  Test RMSE: {np.sqrt(mean_squared_error(y1_test, y_pred_poly)):.2f}\")\n",
    "print(f\"  Test MAE: {mean_absolute_error(y1_test, y_pred_poly):.2f}\\n\")"
   ]
  },
  {
   "cell_type": "markdown",
   "metadata": {},
   "source": [
    "## Section 6: Final Thoughts"
   ]
  },
  {
   "cell_type": "markdown",
   "metadata": {},
   "source": [
    "### 6.1 Summarize Findings"
   ]
  },
  {
   "cell_type": "markdown",
   "metadata": {},
   "source": [
    "| Model                | Features                  | Set   | RMSE  | R²   |\n",
    "|----------------------|---------------------------|-------|-------|------|\n",
    "| Linear Regression    | age                       | Test  | 37.97 | 0.003|\n",
    "| Linear Regression    | family_size               | Test  | 37.61 | 0.022|\n",
    "| Linear Regression    | age, family_size          | Test  | 37.08 | 0.050|\n",
    "| Linear Regression    | age, family_size, sex     | Test  | 35.70 | 0.119|\n",
    "| Ridge                | age, family_size, sex     | Test  | 35.71 | 0.119|\n",
    "| ElasticNet           | age, family_size, sex     | Test  | 36.06 | 0.101|\n",
    "| Polynomial (degree 3)| age                       | Test  | 38.10 |-0.003|\n",
    "- **Best Features:** Case 4 (age, family_size, sex_numeric) due to highest R² (0.119).  \n",
    "- **Best Model:** Linear Regression on Case 4; Ridge ties (0.119), but simplicity favors Linear.  \n",
    "- **Complexity Impact:** Polynomial (degree 3) worsens performance (-0.003); regularization (ElasticNet) slightly reduces fit (0.101)."
   ]
  },
  {
   "cell_type": "markdown",
   "metadata": {},
   "source": [
    "### 6.2 Challenges"
   ]
  },
  {
   "cell_type": "markdown",
   "metadata": {},
   "source": [
    "##### - **Fare Prediction:** High variance (RMSE ~35-38) and outliers (luxury fares) limit accuracy\n",
    "##### - **Skew/Outliers:** Fare’s right skew weakens linear models; outliers dominate errors"
   ]
  }
 ],
 "metadata": {
  "kernelspec": {
   "display_name": ".venv",
   "language": "python",
   "name": "python3"
  },
  "language_info": {
   "codemirror_mode": {
    "name": "ipython",
    "version": 3
   },
   "file_extension": ".py",
   "mimetype": "text/x-python",
   "name": "python",
   "nbconvert_exporter": "python",
   "pygments_lexer": "ipython3",
   "version": "3.12.3"
  }
 },
 "nbformat": 4,
 "nbformat_minor": 2
}
